{
 "cells": [
  {
   "cell_type": "markdown",
   "id": "50c6e00c",
   "metadata": {},
   "source": [
    "Here is the code to release the queries with the parameters you have selected using the OpenDP library"
   ]
  },
  {
   "cell_type": "code",
   "execution_count": null,
   "id": "4fa116f6",
   "metadata": {},
   "outputs": [],
   "source": [
    "# notebook imports\n",
    "import opendp.prelude as dp\n",
    "import pandas as pd\n",
    "import numpy as np\n",
    "dp.enable_features(\"contrib\")\n",
    "from typing import List"
   ]
  },
  {
   "cell_type": "markdown",
   "id": "77556c40",
   "metadata": {},
   "source": [
    "## Query: age_average"
   ]
  },
  {
   "cell_type": "code",
   "execution_count": null,
   "id": "743edfdd",
   "metadata": {},
   "outputs": [],
   "source": [
    "df = pd.read_csv('https://raw.githubusercontent.com/lpanavas/DPEducationDatasets/master/PUMS_california_demographics_1000.csv')"
   ]
  },
  {
   "cell_type": "code",
   "execution_count": null,
   "id": "508b0eb3",
   "metadata": {},
   "outputs": [],
   "source": [
    "query_info = {\"age_average\": {\"lower_bound\": 0, \"upper_bound\": 120, \"bins\": 10, \"column\": \"age\", \"epsilon\": 0.1, \"url\": \"https://raw.githubusercontent.com/lpanavas/DPEducationDatasets/master/PUMS_california_demographics_1000.csv\"}}"
   ]
  },
  {
   "cell_type": "code",
   "execution_count": null,
   "id": "af2e3b1d",
   "metadata": {},
   "outputs": [],
   "source": [
    "domainType = dp.domain_of(List[int])"
   ]
  },
  {
   "cell_type": "code",
   "execution_count": null,
   "id": "2c75afc6",
   "metadata": {},
   "outputs": [],
   "source": [
    "context = dp.Context.compositor(\n",
    "                                data=list(df[\"age\"]),  # Actual column name\n",
    "                                privacy_unit=dp.unit_of(contributions=1),\n",
    "                                privacy_loss=dp.loss_of(epsilon=0.1),  # Actual epsilon\n",
    "                                domain=domainType, \n",
    "                                split_evenly_over=1\n",
    "                            )\n",
    "dp_sum = context.query().clamp((0, 120)).sum().laplace()\n",
    "private_release = dp_sum.release() / df.shape[0]  # Average calculation\n",
    "print(f\"Private release for query=age_average: {private_release}\")"
   ]
  }
 ],
 "metadata": {},
 "nbformat": 4,
 "nbformat_minor": 5
}
